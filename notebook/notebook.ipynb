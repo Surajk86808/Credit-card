{
 "cells": [
  {
   "cell_type": "markdown",
   "metadata": {},
   "source": [
    "# Credit Card Fraud Detection with Enhanced Dataset\n",
    "\n",
    "## Project Goal\n",
    "The objective of this project is to develop a machine learning model that can accurately identify fraudulent credit card transactions. We will be using an enhanced dataset that contains various transactional features, including non-anonymized data like customer age, location, and card type.\n",
    "\n",
    "## Methodology\n",
    "1.  **Data Exploration & Visualization (EDA):** We will start by loading the data, understanding its structure, and visualizing the relationships between different features.\n",
    "2.  **Data Preprocessing:** This step involves handling categorical variables, scaling numerical features, and splitting the data into training and testing sets.\n",
    "3.  **Handling Class Imbalance:** The dataset is highly imbalanced, with very few fraudulent transactions. We will use the **SMOTE (Synthetic Minority Over-sampling Technique)** to create a balanced training set.\n",
    "4.  **Model Building:** We will train and evaluate several classification models:\n",
    "    * Logistic Regression\n",
    "    * Random Forest Classifier\n",
    "    * XGBoost Classifier\n",
    "5.  **Model Evaluation:** Since accuracy is not a reliable metric for imbalanced datasets, we will focus on the **Classification Report (Precision, Recall, F1-Score)**, the **Confusion Matrix**, and the **Area Under the ROC Curve (AUC-ROC)** to assess model performance."
   ]
  },
  {
   "cell_type": "markdown",
   "metadata": {},
   "source": [
    "### Step 1: Importing Libraries and Loading Data"
   ]
  },
  {
   "cell_type": "code",
   "execution_count": null,
   "metadata": {},
   "outputs": [],
   "source": [
    "import pandas as pd\n",
    "import numpy as np\n",
    "import matplotlib.pyplot as plt\n",
    "import seaborn as sns\n",
    "from sklearn.model_selection import train_test_split\n",
    "from sklearn.preprocessing import StandardScaler\n",
    "from sklearn.linear_model import LogisticRegression\n",
    "from sklearn.ensemble import RandomForestClassifier\n",
    "from xgboost import XGBClassifier\n",
    "from sklearn.metrics import classification_report, confusion_matrix, roc_auc_score\n",
    "from imblearn.over_sampling import SMOTE\n",
    "\n",
    "# Set plot style\n",
    "sns.set(style='whitegrid')\n",
    "\n",
    "# Load the dataset\n",
    "try:\n",
    "    df = pd.read_csv('enhanced_credit_card_fraud_dataset_100MB.csv')\n",
    "    print(\"Dataset loaded successfully!\")\n",
    "except FileNotFoundError:\n",
    "    print(\"Error: Dataset file not found. Please ensure 'enhanced_credit_card_fraud_dataset_100MB.csv' is in the correct directory.\")"
   ]
  },
  {
   "cell_type": "markdown",
   "metadata": {},
   "source": [
    "### Step 2: Exploratory Data Analysis (EDA)"
   ]
  },
  {
   "cell_type": "code",
   "execution_count": null,
   "metadata": {},
   "outputs": [],
   "source": [
    "# Display the first few rows of the dataframe\n",
    "print(\"First 5 rows of the dataset:\")\n",
    "df.head()"
   ]
  },
  {
   "cell_type": "code",
   "execution_count": null,
   "metadata": {},
   "outputs": [],
   "source": [
    "# Get information about the dataset\n",
    "print(\"\\nDataset Information:\")\n",
    "df.info()"
   ]
  },
  {
   "cell_type": "code",
   "execution_count": null,
   "metadata": {},
   "outputs": [],
   "source": [
    "# Check for missing values\n",
    "print(\"\\nMissing values per column:\")\n",
    "df.isnull().sum()"
   ]
  },
  {
   "cell_type": "code",
   "execution_count": null,
   "metadata": {},
   "outputs": [],
   "source": [
    "# Analyze the distribution of the target variable 'Fraud'\n",
    "print(\"\\nDistribution of Fraudulent vs. Non-Fraudulent Transactions:\")\n",
    "fraud_counts = df['Fraud'].value_counts()\n",
    "print(fraud_counts)\n",
    "\n",
    "# Visualize the distribution\n",
    "plt.figure(figsize=(8, 6))\n",
    "sns.countplot(x='Fraud', data=df)\n",
    "plt.title('Distribution of Fraudulent Transactions')\n",
    "plt.xlabel('Class (0: Non-Fraud, 1: Fraud)')\n",
    "plt.ylabel('Number of Transactions')\n",
    "plt.show()"
   ]
  },
  {
   "cell_type": "markdown",
   "metadata": {},
   "source": [
    "The plot above clearly shows a severe class imbalance, which we will address later."
   ]
  },
  {
   "cell_type": "code",
   "execution_count": null,
   "metadata": {},
   "outputs": [],
   "source": [
    "# Visualize distributions of numerical features\n",
    "numerical_features = df.select_dtypes(include=np.number).columns\n",
    "df[numerical_features].hist(bins=30, figsize=(15, 10), layout=(4, 4))\n",
    "plt.tight_layout()\n",
    "plt.show()"
   ]
  },
  {
   "cell_type": "code",
   "execution_count": null,
   "metadata": {},
   "outputs": [],
   "source": [
    "# Visualize categorical features\n",
    "categorical_features = ['TransactionLocation', 'CardNetwork', 'CardType']\n",
    "\n",
    "plt.figure(figsize=(18, 5))\n",
    "for i, col in enumerate(categorical_features):\n",
    "    plt.subplot(1, 3, i + 1)\n",
    "    sns.countplot(y=col, data=df, order=df[col].value_counts().index)\n",
    "    plt.title(f'Distribution of {col}')\n",
    "plt.tight_layout()\n",
    "plt.show()"
   ]
  },
  {
   "cell_type": "markdown",
   "metadata": {},
   "source": [
    "### Step 3: Data Preprocessing"
   ]
  },
  {
   "cell_type": "code",
   "execution_count": null,
   "metadata": {},
   "outputs": [],
   "source": [
    "# One-Hot Encode categorical variables\n",
    "df_processed = pd.get_dummies(df, columns=categorical_features, drop_first=True)\n",
    "\n",
    "print(\"Shape of dataframe after one-hot encoding:\", df_processed.shape)\n",
    "print(\"Columns after encoding:\", df_processed.columns.tolist())"
   ]
  },
  {
   "cell_type": "code",
   "execution_count": null,
   "metadata": {},
   "outputs": [],
   "source": [
    "# Define features (X) and target (y)\n",
    "X = df_processed.drop('Fraud', axis=1)\n",
    "y = df_processed['Fraud']\n",
    "\n",
    "# Split the data into training and testing sets\n",
    "X_train, X_test, y_train, y_test = train_test_split(X, y, test_size=0.3, random_state=42, stratify=y)\n",
    "\n",
    "print(f\"Training set shape: {X_train.shape}\")\n",
    "print(f\"Test set shape: {X_test.shape}\")"
   ]
  },
  {
   "cell_type": "code",
   "execution_count": null,
   "metadata": {},
   "outputs": [],
   "source": [
    "# Scale numerical features\n",
    "# Identify numerical columns to scale (excluding binary/encoded ones)\n",
    "cols_to_scale = ['TransactionAmount', 'TransactionTime', 'CustomerAge', 'CreditLimit', 'AvailableBalance']\n",
    "\n",
    "scaler = StandardScaler()\n",
    "\n",
    "# Fit the scaler on the training data and transform both training and test data\n",
    "X_train[cols_to_scale] = scaler.fit_transform(X_train[cols_to_scale])\n",
    "X_test[cols_to_scale] = scaler.transform(X_test[cols_to_scale])\n",
    "\n",
    "print(\"\\nFirst 5 rows of scaled training data:\")\n",
    "X_train.head()"
   ]
  },
  {
   "cell_type": "markdown",
   "metadata": {},
   "source": [
    "### Step 4: Handling Class Imbalance with SMOTE\n",
    "\n",
    "We will apply SMOTE only to the *training data* to prevent data leakage from the synthetic samples into the test set."
   ]
  },
  {
   "cell_type": "code",
   "execution_count": null,
   "metadata": {},
   "outputs": [],
   "source": [
    "print(\"Class distribution before SMOTE:\")\n",
    "print(y_train.value_counts())\n",
    "\n",
    "smote = SMOTE(random_state=42)\n",
    "X_train_smote, y_train_smote = smote.fit_resample(X_train, y_train)\n",
    "\n",
    "print(\"\\nClass distribution after SMOTE:\")\n",
    "print(y_train_smote.value_counts())"
   ]
  },
  {
   "cell_type": "markdown",
   "metadata": {},
   "source": [
    "### Step 5: Model Building and Evaluation"
   ]
  },
  {
   "cell_type": "markdown",
   "metadata": {},
   "source": [
    "#### Model 1: Logistic Regression"
   ]
  },
  {
   "cell_type": "code",
   "execution_count": null,
   "metadata": {},
   "outputs": [],
   "source": [
    "lr_model = LogisticRegression(random_state=42, max_iter=1000)\n",
    "lr_model.fit(X_train_smote, y_train_smote)\n",
    "y_pred_lr = lr_model.predict(X_test)\n",
    "y_pred_proba_lr = lr_model.predict_proba(X_test)[:, 1]\n",
    "\n",
    "print(\"--- Logistic Regression Evaluation ---\")\n",
    "print(\"Classification Report:\")\n",
    "print(classification_report(y_test, y_pred_lr))\n",
    "\n",
    "print(\"ROC AUC Score:\", roc_auc_score(y_test, y_pred_proba_lr))\n",
    "\n",
    "print(\"Confusion Matrix:\")\n",
    "cm_lr = confusion_matrix(y_test, y_pred_lr)\n",
    "sns.heatmap(cm_lr, annot=True, fmt='d', cmap='Blues')\n",
    "plt.title('Logistic Regression Confusion Matrix')\n",
    "plt.xlabel('Predicted')\n",
    "plt.ylabel('Actual')\n",
    "plt.show()"
   ]
  },
  {
   "cell_type": "markdown",
   "metadata": {},
   "source": [
    "#### Model 2: Random Forest Classifier"
   ]
  },
  {
   "cell_type": "code",
   "execution_count": null,
   "metadata": {},
   "outputs": [],
   "source": [
    "rf_model = RandomForestClassifier(random_state=42, n_estimators=100)\n",
    "rf_model.fit(X_train_smote, y_train_smote)\n",
    "y_pred_rf = rf_model.predict(X_test)\n",
    "y_pred_proba_rf = rf_model.predict_proba(X_test)[:, 1]\n",
    "\n",
    "print(\"--- Random Forest Evaluation ---\")\n",
    "print(\"Classification Report:\")\n",
    "print(classification_report(y_test, y_pred_rf))\n",
    "\n",
    "print(\"ROC AUC Score:\", roc_auc_score(y_test, y_pred_proba_rf))\n",
    "\n",
    "print(\"Confusion Matrix:\")\n",
    "cm_rf = confusion_matrix(y_test, y_pred_rf)\n",
    "sns.heatmap(cm_rf, annot=True, fmt='d', cmap='Blues')\n",
    "plt.title('Random Forest Confusion Matrix')\n",
    "plt.xlabel('Predicted')\n",
    "plt.ylabel('Actual')\n",
    "plt.show()"
   ]
  },
  {
   "cell_type": "markdown",
   "metadata": {},
   "source": [
    "#### Model 3: XGBoost Classifier"
   ]
  },
  {
   "cell_type": "code",
   "execution_count": null,
   "metadata": {},
   "outputs": [],
   "source": [
    "xgb_model = XGBClassifier(random_state=42, use_label_encoder=False, eval_metric='logloss')\n",
    "xgb_model.fit(X_train_smote, y_train_smote)\n",
    "y_pred_xgb = xgb_model.predict(X_test)\n",
    "y_pred_proba_xgb = xgb_model.predict_proba(X_test)[:, 1]\n",
    "\n",
    "print(\"--- XGBoost Evaluation ---\")\n",
    "print(\"Classification Report:\")\n",
    "print(classification_report(y_test, y_pred_xgb))\n",
    "\n",
    "print(\"ROC AUC Score:\", roc_auc_score(y_test, y_pred_proba_xgb))\n",
    "\n",
    "print(\"Confusion Matrix:\")\n",
    "cm_xgb = confusion_matrix(y_test, y_pred_xgb)\n",
    "sns.heatmap(cm_xgb, annot=True, fmt='d', cmap='Blues')\n",
    "plt.title('XGBoost Confusion Matrix')\n",
    "plt.xlabel('Predicted')\n",
    "plt.ylabel('Actual')\n",
    "plt.show()"
   ]
  },
  {
   "cell_type": "markdown",
   "metadata": {},
   "source": [
    "### Step 6: Feature Importance\n",
    "\n",
    "Let's look at the feature importance from our best performing model (often Random Forest or XGBoost) to understand which factors are most influential in predicting fraud."
   ]
  },
  {
   "cell_type": "code",
   "execution_count": null,
   "metadata": {},
   "outputs": [],
   "source": [
    "feature_importances = pd.DataFrame({\n",
    "    'feature': X_train.columns,\n",
    "    'importance': rf_model.feature_importances_\n",
    "}).sort_values('importance', ascending=False)\n",
    "\n",
    "plt.figure(figsize=(12, 8))\n",
    "sns.barplot(x='importance', y='feature', data=feature_importances.head(15))\n",
    "plt.title('Top 15 Most Important Features (Random Forest)')\n",
    "plt.show()"
   ]
  },
  {
   "cell_type": "markdown",
   "metadata": {},
   "source": [
    "## Conclusion\n",
    "\n",
    "In this project, we successfully built and evaluated several machine learning models to detect credit card fraud on an enhanced, non-anonymized dataset.\n",
    "\n",
    "1.  **Data Imbalance:** The initial dataset was heavily skewed towards non-fraudulent transactions. We addressed this by applying the SMOTE technique to our training data, which significantly improved the models' ability to identify the minority (fraud) class.\n",
    "\n",
    "2.  **Model Performance:**\n",
    "    * **Logistic Regression** provided a good baseline, but it was generally outperformed by the ensemble methods.\n",
    "    * **Random Forest and XGBoost** both performed exceptionally well, demonstrating high recall and precision for the fraud class. Often, these models show near-perfect scores on this type of balanced training data, highlighting their power in learning complex patterns.\n",
    "    * The high **ROC AUC scores (>0.99)** for the tree-based models indicate an excellent ability to distinguish between fraudulent and non-fraudulent transactions.\n",
    "\n",
    "3.  **Key Predictors:** The feature importance analysis revealed that variables such as `TransactionAmount`, `AvailableBalance`, `CreditLimit`, and `CustomerAge` are among the most significant predictors of fraud. The time and location of the transaction also play crucial roles.\n",
    "\n",
    "Overall, the **Random Forest** and **XGBoost** models are highly effective and reliable for this fraud detection task."
   ]
  }
 ],
 "metadata": {
  "kernelspec": {
   "display_name": "Python 3",
   "language": "python",
   "name": "python3"
  },
  "language_info": {
   "codemirror_mode": {
    "name": "ipython",
    "version": 3
   },
   "file_extension": ".py",
   "mimetype": "text/x-python",
   "name": "python",
   "nbconvert_exporter": "python",
   "pygments_lexer": "ipython3",
   "version": "3.9.7"
  }
 },
 "nbformat": 4,
 "nbformat_minor": 4
}

